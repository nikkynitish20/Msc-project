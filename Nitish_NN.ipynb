{
  "nbformat": 4,
  "nbformat_minor": 0,
  "metadata": {
    "colab": {
      "provenance": []
    },
    "kernelspec": {
      "name": "python3",
      "display_name": "Python 3"
    },
    "language_info": {
      "name": "python"
    }
  },
  "cells": [
    {
      "cell_type": "code",
      "execution_count": 1,
      "metadata": {
        "colab": {
          "base_uri": "https://localhost:8080/"
        },
        "id": "ALyrSUBvJPxp",
        "outputId": "8d1860c2-7396-48b7-8b0a-fe066983bef3"
      },
      "outputs": [
        {
          "output_type": "stream",
          "name": "stdout",
          "text": [
            "Mounted at /content/drive\n"
          ]
        }
      ],
      "source": [
        "from google.colab import drive\n",
        "drive.mount('/content/drive')"
      ]
    },
    {
      "cell_type": "code",
      "source": [
        "!pip install -q keras-tuner\n",
        "\n",
        "import pandas as pd\n",
        "import numpy as np\n",
        "import tensorflow as tf\n",
        "from sklearn.model_selection import train_test_split\n",
        "from tensorflow.keras.preprocessing.text import Tokenizer\n",
        "from tensorflow.keras.preprocessing.sequence import pad_sequences\n",
        "from tensorflow.keras import layers, models\n",
        "import kerastuner as kt"
      ],
      "metadata": {
        "colab": {
          "base_uri": "https://localhost:8080/"
        },
        "id": "TERt7XKKKtQP",
        "outputId": "8d0740d9-9bbd-4b87-b7d6-0671756c2e17"
      },
      "execution_count": 8,
      "outputs": [
        {
          "output_type": "stream",
          "name": "stdout",
          "text": [
            "\u001b[?25l   \u001b[90m━━━━━━━━━━━━━━━━━━━━━━━━━━━━━━━━━━━━━━━━\u001b[0m \u001b[32m0.0/129.1 kB\u001b[0m \u001b[31m?\u001b[0m eta \u001b[36m-:--:--\u001b[0m\r\u001b[2K   \u001b[90m━━━━━━━━━━━━━━━━━━━━━━━━━━━━━━━━━━━━━━━━\u001b[0m \u001b[32m129.1/129.1 kB\u001b[0m \u001b[31m4.6 MB/s\u001b[0m eta \u001b[36m0:00:00\u001b[0m\n",
            "\u001b[?25h"
          ]
        },
        {
          "output_type": "stream",
          "name": "stderr",
          "text": [
            "<ipython-input-8-542d1579f453>:10: DeprecationWarning: `import kerastuner` is deprecated, please use `import keras_tuner`.\n",
            "  import kerastuner as kt\n"
          ]
        }
      ]
    },
    {
      "cell_type": "code",
      "source": [
        "# Load the dataset\n",
        "df = pd.read_csv('/content/drive/MyDrive/Nitish Dataset/train.csv')\n",
        "\n",
        "# Display basic information and first few rows\n",
        "df_info = df.info()\n",
        "df_head = df.head()\n",
        "\n",
        "df_info, df_head"
      ],
      "metadata": {
        "colab": {
          "base_uri": "https://localhost:8080/"
        },
        "id": "qMYTPEzqJXRg",
        "outputId": "ec47f84d-697b-4d95-f198-c1561d7e0dc6"
      },
      "execution_count": 2,
      "outputs": [
        {
          "output_type": "stream",
          "name": "stdout",
          "text": [
            "<class 'pandas.core.frame.DataFrame'>\n",
            "RangeIndex: 24783 entries, 0 to 24782\n",
            "Data columns (total 6 columns):\n",
            " #   Column                    Non-Null Count  Dtype \n",
            "---  ------                    --------------  ----- \n",
            " 0   count                     24783 non-null  int64 \n",
            " 1   hate_speech_count         24783 non-null  int64 \n",
            " 2   offensive_language_count  24783 non-null  int64 \n",
            " 3   neither_count             24783 non-null  int64 \n",
            " 4   class                     24783 non-null  int64 \n",
            " 5   tweet                     24783 non-null  object\n",
            "dtypes: int64(5), object(1)\n",
            "memory usage: 1.1+ MB\n"
          ]
        },
        {
          "output_type": "execute_result",
          "data": {
            "text/plain": [
              "(None,\n",
              "    count  hate_speech_count  offensive_language_count  neither_count  class  \\\n",
              " 0      3                  0                         0              3      2   \n",
              " 1      3                  0                         3              0      1   \n",
              " 2      3                  0                         3              0      1   \n",
              " 3      3                  0                         2              1      1   \n",
              " 4      6                  0                         6              0      1   \n",
              " \n",
              "                                                tweet  \n",
              " 0  !!! RT @mayasolovely: As a woman you shouldn't...  \n",
              " 1  !!!!! RT @mleew17: boy dats cold...tyga dwn ba...  \n",
              " 2  !!!!!!! RT @UrKindOfBrand Dawg!!!! RT @80sbaby...  \n",
              " 3  !!!!!!!!! RT @C_G_Anderson: @viva_based she lo...  \n",
              " 4  !!!!!!!!!!!!! RT @ShenikaRoberts: The shit you...  )"
            ]
          },
          "metadata": {},
          "execution_count": 2
        }
      ]
    },
    {
      "cell_type": "code",
      "source": [
        "import re\n",
        "import string\n",
        "import nltk\n",
        "from nltk.corpus import stopwords\n",
        "\n",
        "# Download stopwords if not already\n",
        "nltk.download('stopwords')\n",
        "stop_words = set(stopwords.words('english'))\n",
        "\n",
        "# Define a preprocessing function\n",
        "def preprocess_text(text):\n",
        "    # Lowercase\n",
        "    text = text.lower()\n",
        "    # Remove URLs\n",
        "    text = re.sub(r\"http\\S+|www\\S+|https\\S+\", '', text, flags=re.MULTILINE)\n",
        "    # Remove user mentions and hashtags\n",
        "    text = re.sub(r'\\@\\w+|\\#', '', text)\n",
        "    # Remove punctuation\n",
        "    text = text.translate(str.maketrans('', '', string.punctuation))\n",
        "    # Remove numbers\n",
        "    text = re.sub(r'\\d+', '', text)\n",
        "    # Remove stopwords\n",
        "    text = ' '.join([word for word in text.split() if word not in stop_words])\n",
        "    return text\n",
        "\n",
        "# Apply preprocessing to the tweet column\n",
        "df['cleaned_tweet'] = df['tweet'].apply(preprocess_text)\n",
        "df.T"
      ],
      "metadata": {
        "colab": {
          "base_uri": "https://localhost:8080/",
          "height": 648
        },
        "id": "tTWWLniOJx9P",
        "outputId": "19c5694a-7c24-4888-d975-dbc26f8f57e7"
      },
      "execution_count": 3,
      "outputs": [
        {
          "output_type": "stream",
          "name": "stderr",
          "text": [
            "[nltk_data] Downloading package stopwords to /root/nltk_data...\n",
            "[nltk_data]   Unzipping corpora/stopwords.zip.\n"
          ]
        },
        {
          "output_type": "execute_result",
          "data": {
            "text/plain": [
              "                                                                      0      \\\n",
              "count                                                                     3   \n",
              "hate_speech_count                                                         0   \n",
              "offensive_language_count                                                  0   \n",
              "neither_count                                                             3   \n",
              "class                                                                     2   \n",
              "tweet                     !!! RT @mayasolovely: As a woman you shouldn't...   \n",
              "cleaned_tweet             rt woman shouldnt complain cleaning house amp ...   \n",
              "\n",
              "                                                                      1      \\\n",
              "count                                                                     3   \n",
              "hate_speech_count                                                         0   \n",
              "offensive_language_count                                                  3   \n",
              "neither_count                                                             0   \n",
              "class                                                                     1   \n",
              "tweet                     !!!!! RT @mleew17: boy dats cold...tyga dwn ba...   \n",
              "cleaned_tweet             rt boy dats coldtyga dwn bad cuffin dat hoe st...   \n",
              "\n",
              "                                                                      2      \\\n",
              "count                                                                     3   \n",
              "hate_speech_count                                                         0   \n",
              "offensive_language_count                                                  3   \n",
              "neither_count                                                             0   \n",
              "class                                                                     1   \n",
              "tweet                     !!!!!!! RT @UrKindOfBrand Dawg!!!! RT @80sbaby...   \n",
              "cleaned_tweet             rt dawg rt ever fuck bitch start cry confused ...   \n",
              "\n",
              "                                                                      3      \\\n",
              "count                                                                     3   \n",
              "hate_speech_count                                                         0   \n",
              "offensive_language_count                                                  2   \n",
              "neither_count                                                             1   \n",
              "class                                                                     1   \n",
              "tweet                     !!!!!!!!! RT @C_G_Anderson: @viva_based she lo...   \n",
              "cleaned_tweet                                           rt look like tranny   \n",
              "\n",
              "                                                                      4      \\\n",
              "count                                                                     6   \n",
              "hate_speech_count                                                         0   \n",
              "offensive_language_count                                                  6   \n",
              "neither_count                                                             0   \n",
              "class                                                                     1   \n",
              "tweet                     !!!!!!!!!!!!! RT @ShenikaRoberts: The shit you...   \n",
              "cleaned_tweet             rt shit hear might true might faker bitch told ya   \n",
              "\n",
              "                                                                      5      \\\n",
              "count                                                                     3   \n",
              "hate_speech_count                                                         1   \n",
              "offensive_language_count                                                  2   \n",
              "neither_count                                                             0   \n",
              "class                                                                     1   \n",
              "tweet                     !!!!!!!!!!!!!!!!!!\"@T_Madison_x: The shit just...   \n",
              "cleaned_tweet             shit blows meclaim faithful somebody still fuc...   \n",
              "\n",
              "                                                                      6      \\\n",
              "count                                                                     3   \n",
              "hate_speech_count                                                         0   \n",
              "offensive_language_count                                                  3   \n",
              "neither_count                                                             0   \n",
              "class                                                                     1   \n",
              "tweet                     !!!!!!\"@__BrighterDays: I can not just sit up ...   \n",
              "cleaned_tweet                    sit hate another bitch got much shit going   \n",
              "\n",
              "                                                                      7      \\\n",
              "count                                                                     3   \n",
              "hate_speech_count                                                         0   \n",
              "offensive_language_count                                                  3   \n",
              "neither_count                                                             0   \n",
              "class                                                                     1   \n",
              "tweet                     !!!!&#8220;@selfiequeenbri: cause I'm tired of...   \n",
              "cleaned_tweet             cause im tired big bitches coming us skinny girls   \n",
              "\n",
              "                                                                      8      \\\n",
              "count                                                                     3   \n",
              "hate_speech_count                                                         0   \n",
              "offensive_language_count                                                  3   \n",
              "neither_count                                                             0   \n",
              "class                                                                     1   \n",
              "tweet                     \" &amp; you might not get ya bitch back &amp; ...   \n",
              "cleaned_tweet                         amp might get ya bitch back amp thats   \n",
              "\n",
              "                                                                      9      \\\n",
              "count                                                                     3   \n",
              "hate_speech_count                                                         1   \n",
              "offensive_language_count                                                  2   \n",
              "neither_count                                                             0   \n",
              "class                                                                     1   \n",
              "tweet                     \" @rhythmixx_ :hobbies include: fighting Maria...   \n",
              "cleaned_tweet                         hobbies include fighting mariam bitch   \n",
              "\n",
              "                          ...                                  24773  \\\n",
              "count                     ...                                      3   \n",
              "hate_speech_count         ...                                      1   \n",
              "offensive_language_count  ...                                      2   \n",
              "neither_count             ...                                      0   \n",
              "class                     ...                                      1   \n",
              "tweet                     ...  you niggers cheat on ya gf's? smh....   \n",
              "cleaned_tweet             ...               niggers cheat ya gfs smh   \n",
              "\n",
              "                                                                      24774  \\\n",
              "count                                                                     3   \n",
              "hate_speech_count                                                         0   \n",
              "offensive_language_count                                                  3   \n",
              "neither_count                                                             0   \n",
              "class                                                                     1   \n",
              "tweet                     you really care bout dis bitch. my dick all in...   \n",
              "cleaned_tweet                   really care bout dis bitch dick yo feelings   \n",
              "\n",
              "                                                                     24775  \\\n",
              "count                                                                    3   \n",
              "hate_speech_count                                                        0   \n",
              "offensive_language_count                                                 3   \n",
              "neither_count                                                            0   \n",
              "class                                                                    1   \n",
              "tweet                     you worried bout other bitches, you need me for?   \n",
              "cleaned_tweet                                    worried bout bitches need   \n",
              "\n",
              "                                       24776  \\\n",
              "count                                      3   \n",
              "hate_speech_count                          3   \n",
              "offensive_language_count                   0   \n",
              "neither_count                              0   \n",
              "class                                      0   \n",
              "tweet                     you're all niggers   \n",
              "cleaned_tweet                  youre niggers   \n",
              "\n",
              "                                                                      24777  \\\n",
              "count                                                                     3   \n",
              "hate_speech_count                                                         2   \n",
              "offensive_language_count                                                  1   \n",
              "neither_count                                                             0   \n",
              "class                                                                     0   \n",
              "tweet                     you're such a retard i hope you get type 2 dia...   \n",
              "cleaned_tweet             youre retard hope get type diabetes die sugar ...   \n",
              "\n",
              "                                                                      24778  \\\n",
              "count                                                                     3   \n",
              "hate_speech_count                                                         0   \n",
              "offensive_language_count                                                  2   \n",
              "neither_count                                                             1   \n",
              "class                                                                     1   \n",
              "tweet                     you's a muthaf***in lie &#8220;@LifeAsKing: @2...   \n",
              "cleaned_tweet             yous muthafin lie right tl trash mine bible sc...   \n",
              "\n",
              "                                                                      24779  \\\n",
              "count                                                                     3   \n",
              "hate_speech_count                                                         0   \n",
              "offensive_language_count                                                  1   \n",
              "neither_count                                                             2   \n",
              "class                                                                     2   \n",
              "tweet                     you've gone and broke the wrong heart baby, an...   \n",
              "cleaned_tweet             youve gone broke wrong heart baby drove rednec...   \n",
              "\n",
              "                                                                      24780  \\\n",
              "count                                                                     3   \n",
              "hate_speech_count                                                         0   \n",
              "offensive_language_count                                                  3   \n",
              "neither_count                                                             0   \n",
              "class                                                                     1   \n",
              "tweet                     young buck wanna eat!!.. dat nigguh like I ain...   \n",
              "cleaned_tweet             young buck wanna eat dat nigguh like aint fuck...   \n",
              "\n",
              "                                                          24781  \\\n",
              "count                                                         6   \n",
              "hate_speech_count                                             0   \n",
              "offensive_language_count                                      6   \n",
              "neither_count                                                 0   \n",
              "class                                                         1   \n",
              "tweet                     youu got wild bitches tellin you lies   \n",
              "cleaned_tweet                 youu got wild bitches tellin lies   \n",
              "\n",
              "                                                                      24782  \n",
              "count                                                                     3  \n",
              "hate_speech_count                                                         0  \n",
              "offensive_language_count                                                  0  \n",
              "neither_count                                                             3  \n",
              "class                                                                     2  \n",
              "tweet                     ~~Ruffled | Ntac Eileen Dahlia - Beautiful col...  \n",
              "cleaned_tweet             ruffled ntac eileen dahlia beautiful color com...  \n",
              "\n",
              "[7 rows x 24783 columns]"
            ],
            "text/html": [
              "\n",
              "  <div id=\"df-45fb7d41-079b-4c86-ab2d-f814f037db62\" class=\"colab-df-container\">\n",
              "    <div>\n",
              "<style scoped>\n",
              "    .dataframe tbody tr th:only-of-type {\n",
              "        vertical-align: middle;\n",
              "    }\n",
              "\n",
              "    .dataframe tbody tr th {\n",
              "        vertical-align: top;\n",
              "    }\n",
              "\n",
              "    .dataframe thead th {\n",
              "        text-align: right;\n",
              "    }\n",
              "</style>\n",
              "<table border=\"1\" class=\"dataframe\">\n",
              "  <thead>\n",
              "    <tr style=\"text-align: right;\">\n",
              "      <th></th>\n",
              "      <th>0</th>\n",
              "      <th>1</th>\n",
              "      <th>2</th>\n",
              "      <th>3</th>\n",
              "      <th>4</th>\n",
              "      <th>5</th>\n",
              "      <th>6</th>\n",
              "      <th>7</th>\n",
              "      <th>8</th>\n",
              "      <th>9</th>\n",
              "      <th>...</th>\n",
              "      <th>24773</th>\n",
              "      <th>24774</th>\n",
              "      <th>24775</th>\n",
              "      <th>24776</th>\n",
              "      <th>24777</th>\n",
              "      <th>24778</th>\n",
              "      <th>24779</th>\n",
              "      <th>24780</th>\n",
              "      <th>24781</th>\n",
              "      <th>24782</th>\n",
              "    </tr>\n",
              "  </thead>\n",
              "  <tbody>\n",
              "    <tr>\n",
              "      <th>count</th>\n",
              "      <td>3</td>\n",
              "      <td>3</td>\n",
              "      <td>3</td>\n",
              "      <td>3</td>\n",
              "      <td>6</td>\n",
              "      <td>3</td>\n",
              "      <td>3</td>\n",
              "      <td>3</td>\n",
              "      <td>3</td>\n",
              "      <td>3</td>\n",
              "      <td>...</td>\n",
              "      <td>3</td>\n",
              "      <td>3</td>\n",
              "      <td>3</td>\n",
              "      <td>3</td>\n",
              "      <td>3</td>\n",
              "      <td>3</td>\n",
              "      <td>3</td>\n",
              "      <td>3</td>\n",
              "      <td>6</td>\n",
              "      <td>3</td>\n",
              "    </tr>\n",
              "    <tr>\n",
              "      <th>hate_speech_count</th>\n",
              "      <td>0</td>\n",
              "      <td>0</td>\n",
              "      <td>0</td>\n",
              "      <td>0</td>\n",
              "      <td>0</td>\n",
              "      <td>1</td>\n",
              "      <td>0</td>\n",
              "      <td>0</td>\n",
              "      <td>0</td>\n",
              "      <td>1</td>\n",
              "      <td>...</td>\n",
              "      <td>1</td>\n",
              "      <td>0</td>\n",
              "      <td>0</td>\n",
              "      <td>3</td>\n",
              "      <td>2</td>\n",
              "      <td>0</td>\n",
              "      <td>0</td>\n",
              "      <td>0</td>\n",
              "      <td>0</td>\n",
              "      <td>0</td>\n",
              "    </tr>\n",
              "    <tr>\n",
              "      <th>offensive_language_count</th>\n",
              "      <td>0</td>\n",
              "      <td>3</td>\n",
              "      <td>3</td>\n",
              "      <td>2</td>\n",
              "      <td>6</td>\n",
              "      <td>2</td>\n",
              "      <td>3</td>\n",
              "      <td>3</td>\n",
              "      <td>3</td>\n",
              "      <td>2</td>\n",
              "      <td>...</td>\n",
              "      <td>2</td>\n",
              "      <td>3</td>\n",
              "      <td>3</td>\n",
              "      <td>0</td>\n",
              "      <td>1</td>\n",
              "      <td>2</td>\n",
              "      <td>1</td>\n",
              "      <td>3</td>\n",
              "      <td>6</td>\n",
              "      <td>0</td>\n",
              "    </tr>\n",
              "    <tr>\n",
              "      <th>neither_count</th>\n",
              "      <td>3</td>\n",
              "      <td>0</td>\n",
              "      <td>0</td>\n",
              "      <td>1</td>\n",
              "      <td>0</td>\n",
              "      <td>0</td>\n",
              "      <td>0</td>\n",
              "      <td>0</td>\n",
              "      <td>0</td>\n",
              "      <td>0</td>\n",
              "      <td>...</td>\n",
              "      <td>0</td>\n",
              "      <td>0</td>\n",
              "      <td>0</td>\n",
              "      <td>0</td>\n",
              "      <td>0</td>\n",
              "      <td>1</td>\n",
              "      <td>2</td>\n",
              "      <td>0</td>\n",
              "      <td>0</td>\n",
              "      <td>3</td>\n",
              "    </tr>\n",
              "    <tr>\n",
              "      <th>class</th>\n",
              "      <td>2</td>\n",
              "      <td>1</td>\n",
              "      <td>1</td>\n",
              "      <td>1</td>\n",
              "      <td>1</td>\n",
              "      <td>1</td>\n",
              "      <td>1</td>\n",
              "      <td>1</td>\n",
              "      <td>1</td>\n",
              "      <td>1</td>\n",
              "      <td>...</td>\n",
              "      <td>1</td>\n",
              "      <td>1</td>\n",
              "      <td>1</td>\n",
              "      <td>0</td>\n",
              "      <td>0</td>\n",
              "      <td>1</td>\n",
              "      <td>2</td>\n",
              "      <td>1</td>\n",
              "      <td>1</td>\n",
              "      <td>2</td>\n",
              "    </tr>\n",
              "    <tr>\n",
              "      <th>tweet</th>\n",
              "      <td>!!! RT @mayasolovely: As a woman you shouldn't...</td>\n",
              "      <td>!!!!! RT @mleew17: boy dats cold...tyga dwn ba...</td>\n",
              "      <td>!!!!!!! RT @UrKindOfBrand Dawg!!!! RT @80sbaby...</td>\n",
              "      <td>!!!!!!!!! RT @C_G_Anderson: @viva_based she lo...</td>\n",
              "      <td>!!!!!!!!!!!!! RT @ShenikaRoberts: The shit you...</td>\n",
              "      <td>!!!!!!!!!!!!!!!!!!\"@T_Madison_x: The shit just...</td>\n",
              "      <td>!!!!!!\"@__BrighterDays: I can not just sit up ...</td>\n",
              "      <td>!!!!&amp;#8220;@selfiequeenbri: cause I'm tired of...</td>\n",
              "      <td>\" &amp;amp; you might not get ya bitch back &amp;amp; ...</td>\n",
              "      <td>\" @rhythmixx_ :hobbies include: fighting Maria...</td>\n",
              "      <td>...</td>\n",
              "      <td>you niggers cheat on ya gf's? smh....</td>\n",
              "      <td>you really care bout dis bitch. my dick all in...</td>\n",
              "      <td>you worried bout other bitches, you need me for?</td>\n",
              "      <td>you're all niggers</td>\n",
              "      <td>you're such a retard i hope you get type 2 dia...</td>\n",
              "      <td>you's a muthaf***in lie &amp;#8220;@LifeAsKing: @2...</td>\n",
              "      <td>you've gone and broke the wrong heart baby, an...</td>\n",
              "      <td>young buck wanna eat!!.. dat nigguh like I ain...</td>\n",
              "      <td>youu got wild bitches tellin you lies</td>\n",
              "      <td>~~Ruffled | Ntac Eileen Dahlia - Beautiful col...</td>\n",
              "    </tr>\n",
              "    <tr>\n",
              "      <th>cleaned_tweet</th>\n",
              "      <td>rt woman shouldnt complain cleaning house amp ...</td>\n",
              "      <td>rt boy dats coldtyga dwn bad cuffin dat hoe st...</td>\n",
              "      <td>rt dawg rt ever fuck bitch start cry confused ...</td>\n",
              "      <td>rt look like tranny</td>\n",
              "      <td>rt shit hear might true might faker bitch told ya</td>\n",
              "      <td>shit blows meclaim faithful somebody still fuc...</td>\n",
              "      <td>sit hate another bitch got much shit going</td>\n",
              "      <td>cause im tired big bitches coming us skinny girls</td>\n",
              "      <td>amp might get ya bitch back amp thats</td>\n",
              "      <td>hobbies include fighting mariam bitch</td>\n",
              "      <td>...</td>\n",
              "      <td>niggers cheat ya gfs smh</td>\n",
              "      <td>really care bout dis bitch dick yo feelings</td>\n",
              "      <td>worried bout bitches need</td>\n",
              "      <td>youre niggers</td>\n",
              "      <td>youre retard hope get type diabetes die sugar ...</td>\n",
              "      <td>yous muthafin lie right tl trash mine bible sc...</td>\n",
              "      <td>youve gone broke wrong heart baby drove rednec...</td>\n",
              "      <td>young buck wanna eat dat nigguh like aint fuck...</td>\n",
              "      <td>youu got wild bitches tellin lies</td>\n",
              "      <td>ruffled ntac eileen dahlia beautiful color com...</td>\n",
              "    </tr>\n",
              "  </tbody>\n",
              "</table>\n",
              "<p>7 rows × 24783 columns</p>\n",
              "</div>\n",
              "    <div class=\"colab-df-buttons\">\n",
              "\n",
              "  <div class=\"colab-df-container\">\n",
              "    <button class=\"colab-df-convert\" onclick=\"convertToInteractive('df-45fb7d41-079b-4c86-ab2d-f814f037db62')\"\n",
              "            title=\"Convert this dataframe to an interactive table.\"\n",
              "            style=\"display:none;\">\n",
              "\n",
              "  <svg xmlns=\"http://www.w3.org/2000/svg\" height=\"24px\" viewBox=\"0 -960 960 960\">\n",
              "    <path d=\"M120-120v-720h720v720H120Zm60-500h600v-160H180v160Zm220 220h160v-160H400v160Zm0 220h160v-160H400v160ZM180-400h160v-160H180v160Zm440 0h160v-160H620v160ZM180-180h160v-160H180v160Zm440 0h160v-160H620v160Z\"/>\n",
              "  </svg>\n",
              "    </button>\n",
              "\n",
              "  <style>\n",
              "    .colab-df-container {\n",
              "      display:flex;\n",
              "      gap: 12px;\n",
              "    }\n",
              "\n",
              "    .colab-df-convert {\n",
              "      background-color: #E8F0FE;\n",
              "      border: none;\n",
              "      border-radius: 50%;\n",
              "      cursor: pointer;\n",
              "      display: none;\n",
              "      fill: #1967D2;\n",
              "      height: 32px;\n",
              "      padding: 0 0 0 0;\n",
              "      width: 32px;\n",
              "    }\n",
              "\n",
              "    .colab-df-convert:hover {\n",
              "      background-color: #E2EBFA;\n",
              "      box-shadow: 0px 1px 2px rgba(60, 64, 67, 0.3), 0px 1px 3px 1px rgba(60, 64, 67, 0.15);\n",
              "      fill: #174EA6;\n",
              "    }\n",
              "\n",
              "    .colab-df-buttons div {\n",
              "      margin-bottom: 4px;\n",
              "    }\n",
              "\n",
              "    [theme=dark] .colab-df-convert {\n",
              "      background-color: #3B4455;\n",
              "      fill: #D2E3FC;\n",
              "    }\n",
              "\n",
              "    [theme=dark] .colab-df-convert:hover {\n",
              "      background-color: #434B5C;\n",
              "      box-shadow: 0px 1px 3px 1px rgba(0, 0, 0, 0.15);\n",
              "      filter: drop-shadow(0px 1px 2px rgba(0, 0, 0, 0.3));\n",
              "      fill: #FFFFFF;\n",
              "    }\n",
              "  </style>\n",
              "\n",
              "    <script>\n",
              "      const buttonEl =\n",
              "        document.querySelector('#df-45fb7d41-079b-4c86-ab2d-f814f037db62 button.colab-df-convert');\n",
              "      buttonEl.style.display =\n",
              "        google.colab.kernel.accessAllowed ? 'block' : 'none';\n",
              "\n",
              "      async function convertToInteractive(key) {\n",
              "        const element = document.querySelector('#df-45fb7d41-079b-4c86-ab2d-f814f037db62');\n",
              "        const dataTable =\n",
              "          await google.colab.kernel.invokeFunction('convertToInteractive',\n",
              "                                                    [key], {});\n",
              "        if (!dataTable) return;\n",
              "\n",
              "        const docLinkHtml = 'Like what you see? Visit the ' +\n",
              "          '<a target=\"_blank\" href=https://colab.research.google.com/notebooks/data_table.ipynb>data table notebook</a>'\n",
              "          + ' to learn more about interactive tables.';\n",
              "        element.innerHTML = '';\n",
              "        dataTable['output_type'] = 'display_data';\n",
              "        await google.colab.output.renderOutput(dataTable, element);\n",
              "        const docLink = document.createElement('div');\n",
              "        docLink.innerHTML = docLinkHtml;\n",
              "        element.appendChild(docLink);\n",
              "      }\n",
              "    </script>\n",
              "  </div>\n",
              "\n",
              "\n",
              "<div id=\"df-75c8ce1a-5d86-44ef-be95-f745a8929895\">\n",
              "  <button class=\"colab-df-quickchart\" onclick=\"quickchart('df-75c8ce1a-5d86-44ef-be95-f745a8929895')\"\n",
              "            title=\"Suggest charts\"\n",
              "            style=\"display:none;\">\n",
              "\n",
              "<svg xmlns=\"http://www.w3.org/2000/svg\" height=\"24px\"viewBox=\"0 0 24 24\"\n",
              "     width=\"24px\">\n",
              "    <g>\n",
              "        <path d=\"M19 3H5c-1.1 0-2 .9-2 2v14c0 1.1.9 2 2 2h14c1.1 0 2-.9 2-2V5c0-1.1-.9-2-2-2zM9 17H7v-7h2v7zm4 0h-2V7h2v10zm4 0h-2v-4h2v4z\"/>\n",
              "    </g>\n",
              "</svg>\n",
              "  </button>\n",
              "\n",
              "<style>\n",
              "  .colab-df-quickchart {\n",
              "      --bg-color: #E8F0FE;\n",
              "      --fill-color: #1967D2;\n",
              "      --hover-bg-color: #E2EBFA;\n",
              "      --hover-fill-color: #174EA6;\n",
              "      --disabled-fill-color: #AAA;\n",
              "      --disabled-bg-color: #DDD;\n",
              "  }\n",
              "\n",
              "  [theme=dark] .colab-df-quickchart {\n",
              "      --bg-color: #3B4455;\n",
              "      --fill-color: #D2E3FC;\n",
              "      --hover-bg-color: #434B5C;\n",
              "      --hover-fill-color: #FFFFFF;\n",
              "      --disabled-bg-color: #3B4455;\n",
              "      --disabled-fill-color: #666;\n",
              "  }\n",
              "\n",
              "  .colab-df-quickchart {\n",
              "    background-color: var(--bg-color);\n",
              "    border: none;\n",
              "    border-radius: 50%;\n",
              "    cursor: pointer;\n",
              "    display: none;\n",
              "    fill: var(--fill-color);\n",
              "    height: 32px;\n",
              "    padding: 0;\n",
              "    width: 32px;\n",
              "  }\n",
              "\n",
              "  .colab-df-quickchart:hover {\n",
              "    background-color: var(--hover-bg-color);\n",
              "    box-shadow: 0 1px 2px rgba(60, 64, 67, 0.3), 0 1px 3px 1px rgba(60, 64, 67, 0.15);\n",
              "    fill: var(--button-hover-fill-color);\n",
              "  }\n",
              "\n",
              "  .colab-df-quickchart-complete:disabled,\n",
              "  .colab-df-quickchart-complete:disabled:hover {\n",
              "    background-color: var(--disabled-bg-color);\n",
              "    fill: var(--disabled-fill-color);\n",
              "    box-shadow: none;\n",
              "  }\n",
              "\n",
              "  .colab-df-spinner {\n",
              "    border: 2px solid var(--fill-color);\n",
              "    border-color: transparent;\n",
              "    border-bottom-color: var(--fill-color);\n",
              "    animation:\n",
              "      spin 1s steps(1) infinite;\n",
              "  }\n",
              "\n",
              "  @keyframes spin {\n",
              "    0% {\n",
              "      border-color: transparent;\n",
              "      border-bottom-color: var(--fill-color);\n",
              "      border-left-color: var(--fill-color);\n",
              "    }\n",
              "    20% {\n",
              "      border-color: transparent;\n",
              "      border-left-color: var(--fill-color);\n",
              "      border-top-color: var(--fill-color);\n",
              "    }\n",
              "    30% {\n",
              "      border-color: transparent;\n",
              "      border-left-color: var(--fill-color);\n",
              "      border-top-color: var(--fill-color);\n",
              "      border-right-color: var(--fill-color);\n",
              "    }\n",
              "    40% {\n",
              "      border-color: transparent;\n",
              "      border-right-color: var(--fill-color);\n",
              "      border-top-color: var(--fill-color);\n",
              "    }\n",
              "    60% {\n",
              "      border-color: transparent;\n",
              "      border-right-color: var(--fill-color);\n",
              "    }\n",
              "    80% {\n",
              "      border-color: transparent;\n",
              "      border-right-color: var(--fill-color);\n",
              "      border-bottom-color: var(--fill-color);\n",
              "    }\n",
              "    90% {\n",
              "      border-color: transparent;\n",
              "      border-bottom-color: var(--fill-color);\n",
              "    }\n",
              "  }\n",
              "</style>\n",
              "\n",
              "  <script>\n",
              "    async function quickchart(key) {\n",
              "      const quickchartButtonEl =\n",
              "        document.querySelector('#' + key + ' button');\n",
              "      quickchartButtonEl.disabled = true;  // To prevent multiple clicks.\n",
              "      quickchartButtonEl.classList.add('colab-df-spinner');\n",
              "      try {\n",
              "        const charts = await google.colab.kernel.invokeFunction(\n",
              "            'suggestCharts', [key], {});\n",
              "      } catch (error) {\n",
              "        console.error('Error during call to suggestCharts:', error);\n",
              "      }\n",
              "      quickchartButtonEl.classList.remove('colab-df-spinner');\n",
              "      quickchartButtonEl.classList.add('colab-df-quickchart-complete');\n",
              "    }\n",
              "    (() => {\n",
              "      let quickchartButtonEl =\n",
              "        document.querySelector('#df-75c8ce1a-5d86-44ef-be95-f745a8929895 button');\n",
              "      quickchartButtonEl.style.display =\n",
              "        google.colab.kernel.accessAllowed ? 'block' : 'none';\n",
              "    })();\n",
              "  </script>\n",
              "</div>\n",
              "\n",
              "    </div>\n",
              "  </div>\n"
            ],
            "application/vnd.google.colaboratory.intrinsic+json": {
              "type": "dataframe"
            }
          },
          "metadata": {},
          "execution_count": 3
        }
      ]
    },
    {
      "cell_type": "code",
      "source": [
        "from imblearn.over_sampling import SMOTE\n",
        "from sklearn.model_selection import train_test_split\n",
        "from sklearn.feature_extraction.text import TfidfVectorizer\n",
        "from sklearn.model_selection import GridSearchCV\n",
        "\n",
        "# Split into features and labels\n",
        "X = df['cleaned_tweet']\n",
        "y = df['class']\n",
        "X.shape, y.shape"
      ],
      "metadata": {
        "colab": {
          "base_uri": "https://localhost:8080/"
        },
        "id": "pi9TrfBhKF7I",
        "outputId": "26874bd6-7e3a-4515-af26-51a54bb67fec"
      },
      "execution_count": 4,
      "outputs": [
        {
          "output_type": "execute_result",
          "data": {
            "text/plain": [
              "((24783,), (24783,))"
            ]
          },
          "metadata": {},
          "execution_count": 4
        }
      ]
    },
    {
      "cell_type": "code",
      "source": [
        "texts = df['cleaned_tweet'].astype(str).values\n",
        "labels = df['class'].values  # 0=hate,1=offensive,2=neutral\n"
      ],
      "metadata": {
        "id": "dUCUMmG0KW24"
      },
      "execution_count": 5,
      "outputs": []
    },
    {
      "cell_type": "code",
      "source": [
        "#Train/validation split\n",
        "X_train, X_val, y_train, y_val = train_test_split(\n",
        "    texts, labels,\n",
        "    test_size=0.2,\n",
        "    stratify=labels,\n",
        "    random_state=42\n",
        ")"
      ],
      "metadata": {
        "id": "ZeLHpCQKKbcr"
      },
      "execution_count": 6,
      "outputs": []
    },
    {
      "cell_type": "code",
      "source": [
        "# Tokenize and pad\n",
        "max_words = 20000\n",
        "max_len   = 100\n",
        "\n",
        "tokenizer = Tokenizer(num_words=max_words, oov_token='<OOV>')\n",
        "tokenizer.fit_on_texts(X_train)"
      ],
      "metadata": {
        "id": "SvZYZWeRKf01"
      },
      "execution_count": 9,
      "outputs": []
    },
    {
      "cell_type": "code",
      "source": [
        "X_train_seq = tokenizer.texts_to_sequences(X_train)\n",
        "X_val_seq   = tokenizer.texts_to_sequences(X_val)\n",
        "\n",
        "X_train_pad = pad_sequences(X_train_seq, maxlen=max_len, padding='post', truncating='post')\n",
        "X_val_pad   = pad_sequences(X_val_seq,   maxlen=max_len, padding='post', truncating='post')\n"
      ],
      "metadata": {
        "id": "dSXDAD3DK4Ve"
      },
      "execution_count": 10,
      "outputs": []
    },
    {
      "cell_type": "code",
      "source": [
        "# Model‑building function for the tuner\n",
        "def build_model(hp):\n",
        "    model = models.Sequential()\n",
        "    embed_dim = hp.Int('embed_dim', min_value=32, max_value=128, step=32)\n",
        "    model.add(layers.Embedding(input_dim=max_words, output_dim=embed_dim, input_length=max_len))\n",
        "    model.add(layers.GlobalAveragePooling1D())\n",
        "    # 1 to 3 Dense Dropout blocks\n",
        "    for i in range(hp.Int('num_layers', 1, 3)):\n",
        "        units = hp.Int(f'units_{i}', min_value=32, max_value=256, step=32)\n",
        "        rate  = hp.Float(f'dropout_{i}', min_value=0.1, max_value=0.5, step=0.1)\n",
        "        model.add(layers.Dense(units, activation='relu'))\n",
        "        model.add(layers.Dropout(rate))\n",
        "    # Output layer\n",
        "    model.add(layers.Dense(3, activation='softmax'))\n",
        "    # Compile\n",
        "    model.compile(\n",
        "        optimizer=hp.Choice('optimizer', ['adam', 'rmsprop']),\n",
        "        loss='sparse_categorical_crossentropy',\n",
        "        metrics=['accuracy']\n",
        "    )\n",
        "    return model"
      ],
      "metadata": {
        "id": "qeb3D-XiK-sc"
      },
      "execution_count": 11,
      "outputs": []
    },
    {
      "cell_type": "code",
      "source": [
        "#Instantiate the tuner\n",
        "tuner = kt.RandomSearch(\n",
        "    build_model,\n",
        "    objective='val_accuracy',\n",
        "    max_trials=10,               # try 10 different hyperparam sets\n",
        "    executions_per_trial=1,      # run each once\n",
        "    directory='kt_dir',\n",
        "    project_name='hate_speech'\n",
        ")"
      ],
      "metadata": {
        "colab": {
          "base_uri": "https://localhost:8080/"
        },
        "id": "V_E9kdr2LGg0",
        "outputId": "ed6d5304-3f60-4b39-a56b-68b2b0a52e7e"
      },
      "execution_count": 12,
      "outputs": [
        {
          "output_type": "stream",
          "name": "stderr",
          "text": [
            "/usr/local/lib/python3.11/dist-packages/keras/src/layers/core/embedding.py:90: UserWarning: Argument `input_length` is deprecated. Just remove it.\n",
            "  warnings.warn(\n"
          ]
        }
      ]
    },
    {
      "cell_type": "code",
      "source": [
        "stop_early = tf.keras.callbacks.EarlyStopping(monitor='val_loss', patience=3)\n",
        "tuner.search(\n",
        "    X_train_pad, y_train,\n",
        "    epochs=10,\n",
        "    validation_data=(X_val_pad, y_val),\n",
        "    callbacks=[stop_early],\n",
        "    verbose=2\n",
        ")"
      ],
      "metadata": {
        "colab": {
          "base_uri": "https://localhost:8080/"
        },
        "id": "vFWpYsoeLOJc",
        "outputId": "10e1c900-5c90-4eac-9a89-3b3161647c04"
      },
      "execution_count": 13,
      "outputs": [
        {
          "output_type": "stream",
          "name": "stdout",
          "text": [
            "Trial 10 Complete [00h 01m 13s]\n",
            "val_accuracy: 0.8950978517532349\n",
            "\n",
            "Best val_accuracy So Far: 0.9013516306877136\n",
            "Total elapsed time: 00h 11m 02s\n"
          ]
        }
      ]
    },
    {
      "cell_type": "code",
      "source": [
        "# Retrieve best model & hyperparameters\n",
        "best_hps = tuner.get_best_hyperparameters(num_trials=1)[0]\n",
        "print(\"Best hyperparameters:\")\n",
        "for param, value in best_hps.values.items():\n",
        "    print(f\"  {param}: {value!r}\")\n",
        "\n",
        "best_model = tuner.get_best_models(num_models=1)[0]"
      ],
      "metadata": {
        "colab": {
          "base_uri": "https://localhost:8080/"
        },
        "id": "jdNUdA3vLYfD",
        "outputId": "71496056-065f-420d-803e-19edbfd84b07"
      },
      "execution_count": 14,
      "outputs": [
        {
          "output_type": "stream",
          "name": "stdout",
          "text": [
            "Best hyperparameters:\n",
            "  • embed_dim: 96\n",
            "  • num_layers: 1\n",
            "  • units_0: 224\n",
            "  • dropout_0: 0.1\n",
            "  • optimizer: 'adam'\n"
          ]
        },
        {
          "output_type": "stream",
          "name": "stderr",
          "text": [
            "/usr/local/lib/python3.11/dist-packages/keras/src/saving/saving_lib.py:757: UserWarning: Skipping variable loading for optimizer 'adam', because it has 2 variables whereas the saved optimizer has 12 variables. \n",
            "  saveable.load_own_variables(weights_store.get(inner_path))\n"
          ]
        }
      ]
    },
    {
      "cell_type": "code",
      "source": [
        "# (Re)train the best model to convergence\n",
        "history = best_model.fit(\n",
        "    X_train_pad, y_train,\n",
        "    epochs=20,\n",
        "    validation_data=(X_val_pad, y_val),\n",
        "    callbacks=[stop_early]\n",
        ")"
      ],
      "metadata": {
        "colab": {
          "base_uri": "https://localhost:8080/"
        },
        "id": "pmwVSDM-Lxtj",
        "outputId": "c07fa3f5-1f18-4628-c905-2b819c659371"
      },
      "execution_count": 15,
      "outputs": [
        {
          "output_type": "stream",
          "name": "stdout",
          "text": [
            "Epoch 1/20\n",
            "\u001b[1m620/620\u001b[0m \u001b[32m━━━━━━━━━━━━━━━━━━━━\u001b[0m\u001b[37m\u001b[0m \u001b[1m8s\u001b[0m 12ms/step - accuracy: 0.9152 - loss: 0.2330 - val_accuracy: 0.8848 - val_loss: 0.3208\n",
            "Epoch 2/20\n",
            "\u001b[1m620/620\u001b[0m \u001b[32m━━━━━━━━━━━━━━━━━━━━\u001b[0m\u001b[37m\u001b[0m \u001b[1m7s\u001b[0m 11ms/step - accuracy: 0.9299 - loss: 0.1954 - val_accuracy: 0.9018 - val_loss: 0.2961\n",
            "Epoch 3/20\n",
            "\u001b[1m620/620\u001b[0m \u001b[32m━━━━━━━━━━━━━━━━━━━━\u001b[0m\u001b[37m\u001b[0m \u001b[1m10s\u001b[0m 11ms/step - accuracy: 0.9368 - loss: 0.1779 - val_accuracy: 0.8971 - val_loss: 0.2988\n",
            "Epoch 4/20\n",
            "\u001b[1m620/620\u001b[0m \u001b[32m━━━━━━━━━━━━━━━━━━━━\u001b[0m\u001b[37m\u001b[0m \u001b[1m9s\u001b[0m 14ms/step - accuracy: 0.9420 - loss: 0.1640 - val_accuracy: 0.8985 - val_loss: 0.3527\n",
            "Epoch 5/20\n",
            "\u001b[1m620/620\u001b[0m \u001b[32m━━━━━━━━━━━━━━━━━━━━\u001b[0m\u001b[37m\u001b[0m \u001b[1m7s\u001b[0m 11ms/step - accuracy: 0.9417 - loss: 0.1608 - val_accuracy: 0.9011 - val_loss: 0.3013\n"
          ]
        }
      ]
    },
    {
      "cell_type": "code",
      "source": [
        "import matplotlib.pyplot as plt\n",
        "from sklearn.metrics import confusion_matrix\n",
        "import numpy as np"
      ],
      "metadata": {
        "id": "ziPpUE3jL0Wi"
      },
      "execution_count": 16,
      "outputs": []
    },
    {
      "cell_type": "code",
      "source": [
        "# Plot training & validation accuracy\n",
        "acc   = history.history['accuracy']\n",
        "val_a = history.history['val_accuracy']\n",
        "epochs = range(1, len(acc)+1)\n",
        "plt.figure()\n",
        "plt.plot(epochs, acc,     label='Train Acc')\n",
        "plt.plot(epochs, val_a,   label='Val Acc')\n",
        "plt.title('Training & Validation Accuracy')\n",
        "plt.xlabel('Epoch')\n",
        "plt.ylabel('Accuracy')\n",
        "plt.legend()\n",
        "plt.show()"
      ],
      "metadata": {
        "colab": {
          "base_uri": "https://localhost:8080/",
          "height": 472
        },
        "id": "RWb1hKB6Mfs2",
        "outputId": "85a3c3fa-e0a1-4673-fff7-45384696775e"
      },
      "execution_count": 17,
      "outputs": [
        {
          "output_type": "display_data",
          "data": {
            "text/plain": [
              "<Figure size 640x480 with 1 Axes>"
            ],
            "image/png": "[encoded data removed]"
          },
          "metadata": {}
        }
      ]
    },
    {
      "cell_type": "code",
      "source": [
        "# 2. Plot training & validation loss\n",
        "loss   = history.history['loss']\n",
        "val_l  = history.history['val_loss']\n",
        "\n",
        "plt.figure()\n",
        "plt.plot(epochs, loss,    label='Train Loss')\n",
        "plt.plot(epochs, val_l,   label='Val Loss')\n",
        "plt.title('Training & Validation Loss')\n",
        "plt.xlabel('Epoch')\n",
        "plt.ylabel('Loss')\n",
        "plt.legend()\n",
        "plt.show()"
      ],
      "metadata": {
        "colab": {
          "base_uri": "https://localhost:8080/",
          "height": 472
        },
        "id": "9bKwdZ3kMikT",
        "outputId": "108271d4-ef7a-4887-add3-c59bea63a7c7"
      },
      "execution_count": 18,
      "outputs": [
        {
          "output_type": "display_data",
          "data": {
            "text/plain": [
              "<Figure size 640x480 with 1 Axes>"
            ],
            "image/png": "[encoded data removed]"
          },
          "metadata": {}
        }
      ]
    },
    {
      "cell_type": "code",
      "source": [
        "# Confusion matrix on validation set\n",
        "y_pred_probs = best_model.predict(X_val_pad)\n",
        "y_pred = np.argmax(y_pred_probs, axis=1)\n",
        "\n",
        "cm = confusion_matrix(y_val, y_pred)\n",
        "plt.figure()\n",
        "plt.imshow(cm, interpolation='nearest')\n",
        "plt.title('Confusion Matrix')\n",
        "plt.xlabel('Predicted label')\n",
        "plt.ylabel('True label')\n",
        "plt.xticks([0,1,2], ['Hate','Offensive','Neutral'])\n",
        "plt.yticks([0,1,2], ['Hate','Offensive','Neutral'])\n",
        "plt.colorbar()\n",
        "for i in range(cm.shape[0]):\n",
        "    for j in range(cm.shape[1]):\n",
        "        plt.text(j, i, cm[i, j], ha='center', va='center')\n",
        "plt.show()"
      ],
      "metadata": {
        "colab": {
          "base_uri": "https://localhost:8080/",
          "height": 489
        },
        "id": "2X3J1MauMmR-",
        "outputId": "219e7eba-337e-4a6a-f6ce-31a2d0932d50"
      },
      "execution_count": 19,
      "outputs": [
        {
          "output_type": "stream",
          "name": "stdout",
          "text": [
            "\u001b[1m155/155\u001b[0m \u001b[32m━━━━━━━━━━━━━━━━━━━━\u001b[0m\u001b[37m\u001b[0m \u001b[1m0s\u001b[0m 1ms/step\n"
          ]
        },
        {
          "output_type": "display_data",
          "data": {
            "text/plain": [
              "<Figure size 640x480 with 2 Axes>"
            ],
            "image/png": "[encoded data removed]"
          },
          "metadata": {}
        }
      ]
    },
    {
      "cell_type": "code",
      "source": [],
      "metadata": {
        "id": "-97EJmevSeAT"
      },
      "execution_count": null,
      "outputs": []
    }
  ]
}